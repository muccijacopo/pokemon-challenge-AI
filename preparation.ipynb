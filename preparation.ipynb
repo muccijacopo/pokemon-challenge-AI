{
 "metadata": {
  "language_info": {
   "codemirror_mode": {
    "name": "ipython",
    "version": 3
   },
   "file_extension": ".py",
   "mimetype": "text/x-python",
   "name": "python",
   "nbconvert_exporter": "python",
   "pygments_lexer": "ipython3",
   "version": "3.9.5"
  },
  "orig_nbformat": 4,
  "kernelspec": {
   "name": "python3",
   "display_name": "Python 3.9.5 64-bit"
  },
  "interpreter": {
   "hash": "63fd5069d213b44bf678585dea6b12cceca9941eaf7f819626cde1f2670de90d"
  }
 },
 "nbformat": 4,
 "nbformat_minor": 2,
 "cells": [
  {
   "cell_type": "code",
   "execution_count": 4,
   "metadata": {},
   "outputs": [],
   "source": [
    "import pandas as pd\n",
    "from sklearn.model_selection import train_test_split"
   ]
  },
  {
   "cell_type": "code",
   "execution_count": 10,
   "metadata": {},
   "outputs": [],
   "source": [
    "combats = pd.read_csv(\"./combats.csv\")"
   ]
  },
  {
   "cell_type": "code",
   "execution_count": 11,
   "metadata": {},
   "outputs": [
    {
     "output_type": "execute_result",
     "data": {
      "text/plain": [
       "       Winner  First_pokemon  Second_pokemon\n",
       "0         650            650             579\n",
       "1         151            151             558\n",
       "2         340            340             631\n",
       "3         139            688             139\n",
       "4         132            365             132\n",
       "...       ...            ...             ...\n",
       "39995     608            608             403\n",
       "39996     149            761             149\n",
       "39997     740            740             320\n",
       "39998     465            465             536\n",
       "39999     350            350             525\n",
       "\n",
       "[40000 rows x 3 columns]"
      ],
      "text/html": "<div>\n<style scoped>\n    .dataframe tbody tr th:only-of-type {\n        vertical-align: middle;\n    }\n\n    .dataframe tbody tr th {\n        vertical-align: top;\n    }\n\n    .dataframe thead th {\n        text-align: right;\n    }\n</style>\n<table border=\"1\" class=\"dataframe\">\n  <thead>\n    <tr style=\"text-align: right;\">\n      <th></th>\n      <th>Winner</th>\n      <th>First_pokemon</th>\n      <th>Second_pokemon</th>\n    </tr>\n  </thead>\n  <tbody>\n    <tr>\n      <th>0</th>\n      <td>650</td>\n      <td>650</td>\n      <td>579</td>\n    </tr>\n    <tr>\n      <th>1</th>\n      <td>151</td>\n      <td>151</td>\n      <td>558</td>\n    </tr>\n    <tr>\n      <th>2</th>\n      <td>340</td>\n      <td>340</td>\n      <td>631</td>\n    </tr>\n    <tr>\n      <th>3</th>\n      <td>139</td>\n      <td>688</td>\n      <td>139</td>\n    </tr>\n    <tr>\n      <th>4</th>\n      <td>132</td>\n      <td>365</td>\n      <td>132</td>\n    </tr>\n    <tr>\n      <th>...</th>\n      <td>...</td>\n      <td>...</td>\n      <td>...</td>\n    </tr>\n    <tr>\n      <th>39995</th>\n      <td>608</td>\n      <td>608</td>\n      <td>403</td>\n    </tr>\n    <tr>\n      <th>39996</th>\n      <td>149</td>\n      <td>761</td>\n      <td>149</td>\n    </tr>\n    <tr>\n      <th>39997</th>\n      <td>740</td>\n      <td>740</td>\n      <td>320</td>\n    </tr>\n    <tr>\n      <th>39998</th>\n      <td>465</td>\n      <td>465</td>\n      <td>536</td>\n    </tr>\n    <tr>\n      <th>39999</th>\n      <td>350</td>\n      <td>350</td>\n      <td>525</td>\n    </tr>\n  </tbody>\n</table>\n<p>40000 rows × 3 columns</p>\n</div>"
     },
     "metadata": {},
     "execution_count": 11
    }
   ],
   "source": [
    "combats"
   ]
  },
  {
   "cell_type": "code",
   "execution_count": 12,
   "metadata": {},
   "outputs": [],
   "source": [
    "train, test = train_test_split(combats, test_size=0.2, random_state=20)"
   ]
  },
  {
   "cell_type": "code",
   "execution_count": 13,
   "metadata": {},
   "outputs": [],
   "source": [
    "train.to_csv(\"train.csv\", index=False)\n",
    "test.to_csv(\"test.csv\", index=False)"
   ]
  }
 ]
}